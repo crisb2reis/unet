{
 "cells": [
  {
   "cell_type": "code",
   "execution_count": 19,
   "metadata": {},
   "outputs": [
    {
     "name": "stdout",
     "output_type": "stream",
     "text": [
      "Recortes e processamentos salvos com sucesso!\n"
     ]
    }
   ],
   "source": [
    "from PIL import Image\n",
    "import os\n",
    "import glob\n",
    "\n",
    "def recortar_imagens_diretorios(diretorio_principal, tamanho_recorte):\n",
    "    for nome_pasta in os.listdir(diretorio_principal):\n",
    "        pasta = os.path.join(diretorio_principal, nome_pasta)\n",
    "        if os.path.isdir(pasta):\n",
    "            diretorio_imagens = os.path.join(pasta, 'images')\n",
    "            diretorio_masks = os.path.join(pasta, 'mask')\n",
    "\n",
    "            if os.path.isdir(diretorio_imagens):\n",
    "                lista_caminhos_imagens = glob.glob(os.path.join(diretorio_imagens, '*.tiff'))  # Altere a extensão para corresponder aos tipos de arquivo desejados\n",
    "\n",
    "                for caminho_imagem in lista_caminhos_imagens:\n",
    "                    imagem = Image.open(caminho_imagem)\n",
    "                    recortes = recortar_imagem(imagem, tamanho_recorte)\n",
    "\n",
    "                    # Salvando os recortes no mesmo local com o nome original + '_recorte_' + número\n",
    "                    caminho_pasta, nome_arquivo = os.path.split(caminho_imagem)\n",
    "                    nome_arquivo_base, extensao_arquivo = os.path.splitext(nome_arquivo)\n",
    "\n",
    "                    for i, recorte in enumerate(recortes):\n",
    "                        caminho_recorte = os.path.join(caminho_pasta, f'{nome_arquivo_base}_recorte_{i+1}{extensao_arquivo}')\n",
    "                        recorte.save(caminho_recorte)\n",
    "\n",
    "                    # Excluir a imagem base\n",
    "                    os.remove(caminho_imagem)\n",
    "\n",
    "            if os.path.isdir(diretorio_masks):\n",
    "                lista_caminhos_masks = glob.glob(os.path.join(diretorio_masks, '*.tiff'))  # Altere a extensão para corresponder aos tipos de arquivo desejados\n",
    "\n",
    "                for caminho_mask in lista_caminhos_masks:\n",
    "                    mask = Image.open(caminho_mask)\n",
    "                    recortes_mask = recortar_imagem(mask, tamanho_recorte)  # Chamada correta da função recortar_imagem() para as máscaras\n",
    "\n",
    "                    # Salvando os recortes das máscaras no mesmo local com o nome original + '_recorte_' + número\n",
    "                    caminho_pasta_mask, nome_arquivo_mask = os.path.split(caminho_mask)\n",
    "                    nome_arquivo_base_mask, extensao_arquivo_mask = os.path.splitext(nome_arquivo_mask)\n",
    "\n",
    "                    for i, recorte_mask in enumerate(recortes_mask):\n",
    "                        caminho_recorte_mask = os.path.join(caminho_pasta_mask, f'{nome_arquivo_base_mask}_recorte_{i+1}{extensao_arquivo_mask}')\n",
    "                        recorte_mask.save(caminho_recorte_mask)\n",
    "\n",
    "                    # Excluir a máscara base\n",
    "                    os.remove(caminho_mask)\n",
    "\n",
    "    print('Recortes e processamentos salvos com sucesso!')\n",
    "\n",
    "def recortar_imagem(imagem, tamanho_recorte):\n",
    "    largura, altura = imagem.size\n",
    "\n",
    "    recortes = []\n",
    "    for y in range(0, altura, tamanho_recorte):\n",
    "        for x in range(0, largura, tamanho_recorte):\n",
    "            caixa_recorte = (x, y, x + tamanho_recorte, y + tamanho_recorte)\n",
    "            recorte = imagem.crop(caixa_recorte)\n",
    "            recortes.append(recorte)\n",
    "\n",
    "    return recortes\n",
    "\n",
    "# Exemplo de uso\n",
    "# Substitua pelo caminho para o diretório principal (Treino)\n",
    "diretorio_principal = '/home/cristiano/Imagens/Imagens_Satelites/SENTINEL-2/TREINO/'\n",
    "tamanho_recorte = 64  # Define o tamanho do recorte em pixels\n",
    "\n",
    "recortar_imagens_diretorios(diretorio_principal, tamanho_recorte)\n"
   ]
  }
 ],
 "metadata": {
  "kernelspec": {
   "display_name": "Python 3 (ipykernel)",
   "language": "python",
   "name": "python3"
  },
  "language_info": {
   "codemirror_mode": {
    "name": "ipython",
    "version": 3
   },
   "file_extension": ".py",
   "mimetype": "text/x-python",
   "name": "python",
   "nbconvert_exporter": "python",
   "pygments_lexer": "ipython3",
   "version": "3.10.6"
  }
 },
 "nbformat": 4,
 "nbformat_minor": 2
}
