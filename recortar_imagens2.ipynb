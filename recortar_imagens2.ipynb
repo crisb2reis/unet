{
 "cells": [
  {
   "cell_type": "code",
   "execution_count": 1,
   "metadata": {},
   "outputs": [],
   "source": [
    "import cv2\n",
    "import os\n",
    "\n",
    "def recortar_imagens(diretorio, tamanho_recorte):\n",
    "    # Percorre todas as imagens no diretório\n",
    "    for nome_arquivo in os.listdir(diretorio):\n",
    "        if nome_arquivo.endswith(\".tiff\"):\n",
    "            # Carrega a imagem\n",
    "            caminho_arquivo = os.path.join(diretorio, nome_arquivo)\n",
    "            imagem = cv2.imread(caminho_arquivo)\n",
    "            \n",
    "            # Obtém as dimensões da imagem\n",
    "            altura, largura, _ = imagem.shape\n",
    "            \n",
    "            # Calcula o número de recortes horizontais e verticais\n",
    "            num_recortes_horizontais = largura // tamanho_recorte\n",
    "            num_recortes_verticais = altura // tamanho_recorte\n",
    "            \n",
    "            # Realiza o recorte e salva as imagens resultantes\n",
    "            for i in range(num_recortes_horizontais):\n",
    "                for j in range(num_recortes_verticais):\n",
    "                    # Define as coordenadas do retângulo de recorte\n",
    "                    esquerda = i * tamanho_recorte\n",
    "                    superior = j * tamanho_recorte\n",
    "                    direita = (i + 1) * tamanho_recorte\n",
    "                    inferior = (j + 1) * tamanho_recorte\n",
    "                    \n",
    "                    # Realiza o recorte\n",
    "                    recorte = imagem[superior:inferior, esquerda:direita]\n",
    "                    \n",
    "                    # Salva o recorte em um novo arquivo\n",
    "                    nome_recorte = f\"recorte_{i}_{j}_{nome_arquivo}\"\n",
    "                    caminho_recorte = os.path.join(diretorio, nome_recorte)\n",
    "                    cv2.imwrite(caminho_recorte, recorte)\n",
    "                    \n",
    "            # Libera a memória da imagem\n",
    "            cv2.destroyAllWindows()\n",
    "\n",
    "# Exemplo de uso\n",
    "diretorio_imagens = \"/home/emanoelcepr/projetos/u-net/dados\"\n",
    "tamanho_recorte = 64\n",
    "recortar_imagens(diretorio_imagens, tamanho_recorte)\n"
   ]
  }
 ],
 "metadata": {
  "kernelspec": {
   "display_name": "Python 3 (ipykernel)",
   "language": "python",
   "name": "python3"
  },
  "language_info": {
   "codemirror_mode": {
    "name": "ipython",
    "version": 3
   },
   "file_extension": ".py",
   "mimetype": "text/x-python",
   "name": "python",
   "nbconvert_exporter": "python",
   "pygments_lexer": "ipython3",
   "version": "3.10.6"
  }
 },
 "nbformat": 4,
 "nbformat_minor": 2
}
