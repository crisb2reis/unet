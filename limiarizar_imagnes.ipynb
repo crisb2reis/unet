{
 "cells": [
  {
   "cell_type": "code",
   "execution_count": 5,
   "metadata": {},
   "outputs": [],
   "source": [
    "import cv2 # OpenCV\n",
    "import numpy as np\n",
    "from matplotlib import pyplot as plt\n",
    "import tensorflow as tf\n",
    "import multiprocessing\n",
    "import os\n"
   ]
  },
  {
   "cell_type": "code",
   "execution_count": 4,
   "metadata": {},
   "outputs": [
    {
     "data": {
      "text/plain": [
       "<tensorflow.python.client.session.Session at 0x7f97ad963e80>"
      ]
     },
     "execution_count": 4,
     "metadata": {},
     "output_type": "execute_result"
    }
   ],
   "source": [
    "num_cores = multiprocessing.cpu_count()\n",
    "config = tf.compat.v1.ConfigProto(inter_op_parallelism_threads=num_cores,\n",
    "                                  intra_op_parallelism_threads=num_cores)\n",
    "tf.compat.v1.Session(config=config)\n"
   ]
  },
  {
   "cell_type": "code",
   "execution_count": 5,
   "metadata": {},
   "outputs": [],
   "source": [
    "diretorio_principal = '/home/cristiano/Imagens/Imagens_Satelites/SENTINEL-2/TREINO/'  # Substitua pelo caminho do diretório principal\n",
    "\n",
    "# Iterar sobre as pastas no diretório principal\n",
    "for pasta in os.listdir(diretorio_principal):\n",
    "    caminho_pasta = os.path.join(diretorio_principal, pasta)  # Obter o caminho completo da pasta\n",
    "    \n",
    "    if os.path.isdir(caminho_pasta):  # Verificar se é um diretório\n",
    "        caminho_images = os.path.join(caminho_pasta, 'images')  # Obter o caminho do diretório \"images\" dentro da pasta\n",
    "        \n",
    "        if os.path.isdir(caminho_images):  # Verificar se o diretório \"images\" existe\n",
    "            for arquivo in os.listdir(caminho_images):\n",
    "                if 'B12_(Raw)' in arquivo:  # Verificar se o nome do arquivo contém \"B12_(Raw)\"\n",
    "                    caminho_arquivo = os.path.join(caminho_images, arquivo)  # Obter o caminho completo do arquivo\n",
    "\n",
    "                    # Ler a imagem\n",
    "                    img = cv2.imread(caminho_arquivo)\n",
    "\n",
    "                    # Converter para escala de cinza\n",
    "                    gray = cv2.cvtColor(img, cv2.COLOR_BGR2GRAY)\n",
    "\n",
    "                    # Aplicar o limiar\n",
    "                    limiar = 100\n",
    "                    _, thresh = cv2.threshold(gray, limiar, 255, cv2.THRESH_BINARY)\n",
    "\n",
    "                    # Salvar a imagem binarizada na pasta \"mask\"\n",
    "                    caminho_mask = os.path.join(caminho_pasta, 'mask')\n",
    "                    novo_nome = arquivo.replace('B12_(Raw)', 'Mask')\n",
    "                    caminho_saida = os.path.join(caminho_mask, novo_nome)\n",
    "                    cv2.imwrite(caminho_saida, thresh)\n",
    "\n",
    "                    # Exibir a imagem após o limiar\n",
    "                    # plt.imshow(thresh, cmap='gray')\n",
    "                    # plt.show()\n",
    "                    break  # Parar a iteração após encontrar o arquivo correto\n"
   ]
  }
 ],
 "metadata": {
  "kernelspec": {
   "display_name": "Python 3 (ipykernel)",
   "language": "python",
   "name": "python3"
  },
  "language_info": {
   "codemirror_mode": {
    "name": "ipython",
    "version": 3
   },
   "file_extension": ".py",
   "mimetype": "text/x-python",
   "name": "python",
   "nbconvert_exporter": "python",
   "pygments_lexer": "ipython3",
   "version": "3.10.6"
  }
 },
 "nbformat": 4,
 "nbformat_minor": 2
}
