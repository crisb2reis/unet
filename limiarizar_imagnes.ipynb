{
 "cells": [
  {
   "cell_type": "code",
   "execution_count": 2,
   "metadata": {},
   "outputs": [
    {
     "name": "stderr",
     "output_type": "stream",
     "text": [
      "2023-07-13 08:56:28.684624: I tensorflow/tsl/cuda/cudart_stub.cc:28] Could not find cuda drivers on your machine, GPU will not be used.\n",
      "2023-07-13 08:56:28.819618: I tensorflow/tsl/cuda/cudart_stub.cc:28] Could not find cuda drivers on your machine, GPU will not be used.\n",
      "2023-07-13 08:56:28.820428: I tensorflow/core/platform/cpu_feature_guard.cc:182] This TensorFlow binary is optimized to use available CPU instructions in performance-critical operations.\n",
      "To enable the following instructions: AVX2 FMA, in other operations, rebuild TensorFlow with the appropriate compiler flags.\n",
      "2023-07-13 08:56:29.646808: W tensorflow/compiler/tf2tensorrt/utils/py_utils.cc:38] TF-TRT Warning: Could not find TensorRT\n"
     ]
    }
   ],
   "source": [
    "import cv2 # OpenCV\n",
    "import numpy as np\n",
    "from matplotlib import pyplot as plt\n",
    "import tensorflow as tf\n",
    "import multiprocessing\n",
    "import os\n"
   ]
  },
  {
   "cell_type": "code",
   "execution_count": 3,
   "metadata": {},
   "outputs": [
    {
     "data": {
      "text/plain": [
       "<tensorflow.python.client.session.Session at 0x7f627be97490>"
      ]
     },
     "execution_count": 3,
     "metadata": {},
     "output_type": "execute_result"
    }
   ],
   "source": [
    "num_cores = multiprocessing.cpu_count()\n",
    "config = tf.compat.v1.ConfigProto(inter_op_parallelism_threads=num_cores,\n",
    "                                  intra_op_parallelism_threads=num_cores)\n",
    "tf.compat.v1.Session(config=config)\n"
   ]
  },
  {
   "cell_type": "code",
   "execution_count": 8,
   "metadata": {},
   "outputs": [],
   "source": [
    "diretorio_principal = '/home/emanoelcepr/projetos/u-net/dados/'  # Substitua pelo caminho do diretório principal\n",
    "\n",
    "# Iterar sobre as pastas no diretório principal\n",
    "for pasta in os.listdir(diretorio_principal):\n",
    "    caminho_pasta = os.path.join(diretorio_principal, pasta)  # Obter o caminho completo da pasta\n",
    "    \n",
    "    if os.path.isdir(caminho_pasta):  # Verificar se é um diretório\n",
    "        caminho_images = os.path.join(caminho_pasta, 'images')  # Obter o caminho do diretório \"images\" dentro da pasta\n",
    "        \n",
    "        if os.path.isdir(caminho_images):  # Verificar se o diretório \"images\" existe\n",
    "            for arquivo in os.listdir(caminho_images):\n",
    "                if 'B12_(Raw)' in arquivo:  # Verificar se o nome do arquivo contém \"B12_(Raw)\"\n",
    "                    caminho_arquivo = os.path.join(caminho_images, arquivo)  # Obter o caminho completo do arquivo\n",
    "\n",
    "                    # Ler a imagem\n",
    "                    img = cv2.imread(caminho_arquivo)\n",
    "\n",
    "                    # Converter para escala de cinza\n",
    "                    gray = cv2.cvtColor(img, cv2.COLOR_BGR2GRAY)\n",
    "\n",
    "                    # Aplicar o limiar\n",
    "                    limiar = 100\n",
    "                    _, thresh = cv2.threshold(gray, limiar, 255, cv2.THRESH_BINARY)\n",
    "\n",
    "                    # Salvar a imagem binarizada na pasta \"mask\"\n",
    "                    caminho_mask = os.path.join(caminho_pasta, 'mask')\n",
    "                    novo_nome = arquivo.replace('B12_(Raw)', 'Mask')\n",
    "                    caminho_saida = os.path.join(caminho_mask, novo_nome)\n",
    "                    cv2.imwrite(caminho_saida, thresh)\n",
    "\n",
    "                    # Exibir a imagem após o limiar\n",
    "                    plt.imshow(thresh, cmap='gray')\n",
    "                    plt.show()\n",
    "                    break  # Parar a iteração após encontrar o arquivo correto\n"
   ]
  },
  {
   "cell_type": "code",
   "execution_count": 1,
   "metadata": {},
   "outputs": [
    {
     "data": {
      "image/png": "[encoded data removed]",
      "text/plain": [
       "<Figure size 640x480 with 1 Axes>"
      ]
     },
     "metadata": {},
     "output_type": "display_data"
    },
    {
     "data": {
      "image/png": "[encoded data removed]",
      "text/plain": [
       "<Figure size 640x480 with 1 Axes>"
      ]
     },
     "metadata": {},
     "output_type": "display_data"
    }
   ],
   "source": [
    "import os\n",
    "import cv2\n",
    "import matplotlib.pyplot as plt\n",
    "\n",
    "diretorio = '/home/emanoelcepr/projetos/u-net/dados/'  # Substitua pelo caminho da pasta onde estão localizadas as imagens\n",
    "\n",
    "# Iterar sobre os arquivos na pasta\n",
    "for arquivo in os.listdir(diretorio):\n",
    "    if 'B12_(Raw)' in arquivo:  # Verificar se o nome do arquivo contém \"B12_(Raw)\"\n",
    "        caminho_arquivo = os.path.join(diretorio, arquivo)  # Obter o caminho completo do arquivo\n",
    "\n",
    "        # Ler a imagem\n",
    "        img = cv2.imread(caminho_arquivo)\n",
    "\n",
    "        # Converter para escala de cinza\n",
    "        gray = cv2.cvtColor(img, cv2.COLOR_BGR2GRAY)\n",
    "\n",
    "        # Aplicar o limiar\n",
    "        limiar = 100\n",
    "        _, thresh = cv2.threshold(gray, limiar, 1, cv2.THRESH_BINARY)\n",
    "\n",
    "        # Salvar a imagem binarizada\n",
    "        novo_nome = arquivo.replace('B12_(Raw)', 'Mask')\n",
    "        caminho_saida = os.path.join(diretorio, novo_nome)\n",
    "        cv2.imwrite(caminho_saida, thresh)\n",
    "\n",
    "        # Exibir a imagem após o limiar\n",
    "        plt.imshow(thresh, cmap='gray')\n",
    "        plt.show()\n"
   ]
  }
 ],
 "metadata": {
  "kernelspec": {
   "display_name": "Python 3 (ipykernel)",
   "language": "python",
   "name": "python3"
  },
  "language_info": {
   "codemirror_mode": {
    "name": "ipython",
    "version": 3
   },
   "file_extension": ".py",
   "mimetype": "text/x-python",
   "name": "python",
   "nbconvert_exporter": "python",
   "pygments_lexer": "ipython3",
   "version": "3.10.6"
  }
 },
 "nbformat": 4,
 "nbformat_minor": 2
}
